{
  "nbformat": 4,
  "nbformat_minor": 0,
  "metadata": {
    "colab": {
      "provenance": [],
      "include_colab_link": true
    },
    "kernelspec": {
      "name": "python3",
      "display_name": "Python 3"
    },
    "language_info": {
      "name": "python"
    }
  },
  "cells": [
    {
      "cell_type": "markdown",
      "metadata": {
        "id": "view-in-github",
        "colab_type": "text"
      },
      "source": [
        "<a href=\"https://colab.research.google.com/github/Yukoock/Diplomado-2017/blob/master/4_4_Review_Products_Gem.ipynb\" target=\"_parent\"><img src=\"https://colab.research.google.com/assets/colab-badge.svg\" alt=\"Open In Colab\"/></a>"
      ]
    },
    {
      "cell_type": "markdown",
      "source": [
        "# Reviews App"
      ],
      "metadata": {
        "id": "DLoDb1B696Wq"
      }
    },
    {
      "cell_type": "code",
      "execution_count": 1,
      "metadata": {
        "id": "6qdrExBsr8O1"
      },
      "outputs": [],
      "source": [
        "%%capture\n",
        "!pip install langchain-openai\n",
        "!pip install gradio\n",
        "!pip install langchain-google-genai"
      ]
    },
    {
      "cell_type": "code",
      "source": [
        "import os\n",
        "from google.colab import userdata\n",
        "api_key = userdata.get('GEMINI')"
      ],
      "metadata": {
        "id": "SfSNNjW1r_NF"
      },
      "execution_count": 3,
      "outputs": []
    },
    {
      "cell_type": "code",
      "source": [
        "import gradio as gr\n",
        "from langchain import PromptTemplate\n",
        "from langchain_google_genai import ChatGoogleGenerativeAI\n",
        "from langchain_core.output_parsers import StrOutputParser\n",
        "import os\n",
        "\n",
        "# Plantilla para extracción de información\n",
        "template = \"\"\"\\\n",
        "Analiza el siguiente texto y extrae la siguiente información:\n",
        "\n",
        "sentimiento: ¿Cuál es el tono emocional del contenido?\n",
        "Responde Positivo, Negativo, Neutral o Desconocido.\n",
        "\n",
        "tiempo_entrega: ¿Se menciona el tiempo de entrega o disponibilidad?\n",
        "Indica el número de días/horas si se especifica, sino \"Sin información\".\n",
        "\n",
        "valoración_precio: ¿Cómo percibe el autor el precio/costo?\n",
        "Responde Caro, Económico, Justo o Desconocido.\n",
        "\n",
        "recomendación: ¿Recomendaría el producto/experiencia?\n",
        "Responde Sí, No, Neutral o Desconocido.\n",
        "\n",
        "tema_principal: ¿Cuál es el tema principal del texto? (Máximo 3 palabras)\n",
        "\n",
        "Formatea la salida como un resumen estructurado en español con estos puntos:\n",
        "- Análisis de sentimiento\n",
        "- Tiempo de entrega/espera\n",
        "- Percepción del valor\n",
        "- Recomendación\n",
        "- Tema destacado\n",
        "\n",
        "texto: {review}\n",
        "\"\"\"\n",
        "\n",
        "prompt = PromptTemplate(\n",
        "    input_variables=[\"review\"],\n",
        "    template=template)\n",
        "\n",
        "def extract_key_data(review: str) -> str:\n",
        "    try:\n",
        "        # 1. Validar entrada vacía\n",
        "        if not review or not review.strip():\n",
        "            return \"⚠️ Por favor, ingresa un texto para analizar.\"\n",
        "\n",
        "        # 2. Validar longitud de la entrada\n",
        "        if len(review.split()) > 700:\n",
        "            return \"⚠️ Por favor, ingresa un texto más corto. La longitud máxima es de 700 palabras.\"\n",
        "\n",
        "        # 3. Verificar API key antes de inicializar LLM\n",
        "        if not api_key:\n",
        "            return \"❌ Error: No se encontró GOOGLE_API_KEY. Por favor configura tu API key de Google Generative AI.\"\n",
        "\n",
        "        # 4. Inicializar el LLM\n",
        "        llm = ChatGoogleGenerativeAI(\n",
        "            model=\"gemini-1.5-flash\",\n",
        "            temperature=0,\n",
        "            google_api_key=api_key)\n",
        "\n",
        "        # 5. Crear el parser de salida\n",
        "        parser = StrOutputParser()\n",
        "\n",
        "        # 6. Crear la cadena (Chain)\n",
        "        chain = prompt | llm | parser\n",
        "\n",
        "        # 7. Invocar la cadena\n",
        "        result = chain.invoke({\"review\": review})\n",
        "\n",
        "        # 8. Devolver el resultado\n",
        "        return result\n",
        "\n",
        "    except Exception as e:\n",
        "        return f\"❌ Error al procesar el texto: {str(e)}\\n\\nVerifica que tu API key de Google esté configurada correctamente.\"\n"
      ],
      "metadata": {
        "id": "lA9D2pnUsh4y"
      },
      "execution_count": 4,
      "outputs": []
    },
    {
      "cell_type": "code",
      "source": [
        "# Interfaz Gradio\n",
        "iface = gr.Interface(\n",
        "    fn = extract_key_data,\n",
        "    inputs=[\n",
        "        gr.Textbox(\n",
        "            label=\"Texto a analizar\",\n",
        "            lines=10,\n",
        "            placeholder=\"Pega aquí reseñas, comentarios en redes, artículos...\",\n",
        "            info=\"Puede ser sobre productos, experiencias, servicios o contenido digital\")],\n",
        "    outputs=gr.Textbox(\n",
        "        label=\"Análisis completo\",\n",
        "        lines=15,\n",
        "        interactive=False),\n",
        "    title=\"🛍️📱 Analizador de Opiniones 2.0\",\n",
        "    description=\"\"\"Extrae insights clave de cualquier texto: reseñas, comentarios en redes, feedback de clientes...\n",
        "    Detecta sentimientos, percepción de valor y temas principales automáticamente.\"\"\",\n",
        "    examples=[\n",
        "        [\"El nuevo smartphone es increíble aunque algo caro. Llegó en 2 días. Lo recomiendo totalmente!\"],\n",
        "        [\"La serie empezó bien pero el final fue decepcionante. No vale la pena pagar la suscripción.\"],\n",
        "        [\"El restaurante tiene ambiente agradable pero los precios son elevados para la calidad de la comida.\"]],\n",
        "    theme=\"soft\",\n",
        "    allow_flagging=\"never\")\n",
        "\n",
        "iface.launch()"
      ],
      "metadata": {
        "colab": {
          "base_uri": "https://localhost:8080/",
          "height": 661
        },
        "id": "UK4wfUoHMfbF",
        "outputId": "a7f0fee4-bc4b-473b-8360-ed47d9c12ed8"
      },
      "execution_count": 5,
      "outputs": [
        {
          "output_type": "stream",
          "name": "stderr",
          "text": [
            "/usr/local/lib/python3.11/dist-packages/gradio/interface.py:416: UserWarning: The `allow_flagging` parameter in `Interface` is deprecated.Use `flagging_mode` instead.\n",
            "  warnings.warn(\n"
          ]
        },
        {
          "output_type": "stream",
          "name": "stdout",
          "text": [
            "It looks like you are running Gradio on a hosted a Jupyter notebook. For the Gradio app to work, sharing must be enabled. Automatically setting `share=True` (you can turn this off by setting `share=False` in `launch()` explicitly).\n",
            "\n",
            "Colab notebook detected. To show errors in colab notebook, set debug=True in launch()\n",
            "* Running on public URL: https://de97703f436d843fc5.gradio.live\n",
            "\n",
            "This share link expires in 1 week. For free permanent hosting and GPU upgrades, run `gradio deploy` from the terminal in the working directory to deploy to Hugging Face Spaces (https://huggingface.co/spaces)\n"
          ]
        },
        {
          "output_type": "display_data",
          "data": {
            "text/plain": [
              "<IPython.core.display.HTML object>"
            ],
            "text/html": [
              "<div><iframe src=\"https://de97703f436d843fc5.gradio.live\" width=\"100%\" height=\"500\" allow=\"autoplay; camera; microphone; clipboard-read; clipboard-write;\" frameborder=\"0\" allowfullscreen></iframe></div>"
            ]
          },
          "metadata": {}
        },
        {
          "output_type": "execute_result",
          "data": {
            "text/plain": []
          },
          "metadata": {},
          "execution_count": 5
        }
      ]
    },
    {
      "cell_type": "markdown",
      "source": [
        "Ejemplos:\n",
        "\n",
        "\"¡Me encantó este producto! Llegó súper rápido, en solo 2 días después de hacer el pedido. La calidad es excelente y funciona perfectamente para lo que necesitaba. Además, el precio me pareció muy razonable comparado con otras opciones. ¡Totalmente recomendado!\"\n",
        "\n",
        "\"Qué decepción. El envío tardó una eternidad, más de 15 días en llegar cuando prometieron 5. Al abrirlo, el producto tenía un rasguño visible y no funciona como esperaba. No volvería a comprar.\"\n",
        "\n",
        "\"El producto en sí está bien, cumple su función básica. Sin embargo, me parece demasiado caro para la calidad que ofrece, esperaba algo más robusto por ese coste. No recuerdo cuánto tardó en llegar, pero el embalaje era adecuado.\"\n",
        "\n",
        "\"Estoy muy contento con la compra. Llegó bastante rápido. El producto es tal cual se describe y el precio está en línea con lo que esperaba pagar por algo así. Funciona bien hasta ahora.\"\n",
        "\n",
        "\"Recibí el artículo y es funcional. Hace lo que dice que hace, ni más ni menos. No tengo quejas particulares sobre el proceso.\""
      ],
      "metadata": {
        "id": "_lIlXS_45JPC"
      }
    }
  ]
}