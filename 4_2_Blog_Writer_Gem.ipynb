{
  "nbformat": 4,
  "nbformat_minor": 0,
  "metadata": {
    "colab": {
      "provenance": [],
      "include_colab_link": true
    },
    "kernelspec": {
      "name": "python3",
      "display_name": "Python 3"
    },
    "language_info": {
      "name": "python"
    }
  },
  "cells": [
    {
      "cell_type": "markdown",
      "metadata": {
        "id": "view-in-github",
        "colab_type": "text"
      },
      "source": [
        "<a href=\"https://colab.research.google.com/github/Yukoock/Diplomado-2017/blob/master/4_2_Blog_Writer_Gem.ipynb\" target=\"_parent\"><img src=\"https://colab.research.google.com/assets/colab-badge.svg\" alt=\"Open In Colab\"/></a>"
      ]
    },
    {
      "cell_type": "markdown",
      "source": [
        "# Blog Writer with Gemini"
      ],
      "metadata": {
        "id": "DLoDb1B696Wq"
      }
    },
    {
      "cell_type": "markdown",
      "source": [
        "Instalacion de Librerías"
      ],
      "metadata": {
        "id": "s7BTeSA91UNB"
      }
    },
    {
      "cell_type": "code",
      "execution_count": 1,
      "metadata": {
        "id": "6qdrExBsr8O1"
      },
      "outputs": [],
      "source": [
        "%%capture\n",
        "!pip install langchain-google-genai\n",
        "!pip install gradio"
      ]
    },
    {
      "cell_type": "markdown",
      "source": [
        "Conexión con la API de GEMINI"
      ],
      "metadata": {
        "id": "7iX4vW3G1Wb6"
      }
    },
    {
      "cell_type": "code",
      "source": [
        "import os\n",
        "from google.colab import userdata\n",
        "api_key = userdata.get('GEMINI')"
      ],
      "metadata": {
        "id": "SfSNNjW1r_NF"
      },
      "execution_count": 8,
      "outputs": []
    },
    {
      "cell_type": "markdown",
      "source": [
        "Diseño del Prompt"
      ],
      "metadata": {
        "id": "sNRKEFti1cMY"
      }
    },
    {
      "cell_type": "code",
      "source": [
        "import gradio as gr\n",
        "from langchain_google_genai import ChatGoogleGenerativeAI\n",
        "from langchain import PromptTemplate\n",
        "from langchain_core.output_parsers import StrOutputParser\n",
        "\n",
        "# Función para generar respuesta\n",
        "def generate_blog_post(topic):\n",
        "\n",
        "    llm = ChatGoogleGenerativeAI(\n",
        "            model=\"gemini-1.5-flash\",\n",
        "            temperature=0,\n",
        "            google_api_key=api_key)\n",
        "\n",
        "    template = \"\"\"\n",
        "    Como un redactor experto y entusiasta de la innovación, startups, capital de riesgo y las tecnologías emergentes en el mundo de habla hispana,\n",
        "    tu tarea es generar un artículo de blog de aproximadamente 400 palabras en castellano sobre el tema: {topic}.\n",
        "\n",
        "    Por favor, asegúrate de que el contenido sea:\n",
        "    1.  Novedoso e Interesante: Enfócate en ideas frescas, ángulos sorprendentes o tendencias poco exploradas relacionadas con el {topic}. Evita los lugares comunes.\n",
        "    2.  Relevante y Actual: Conecta el tema con el contexto actual, especialmente si aplica a Latinoamérica o España.\n",
        "    3.  Claro y Atractivo: Utiliza un lenguaje accesible pero bien fundamentado, con un tono que invite a la reflexión y al debate.\n",
        "    4.  Bien Estructurado: Con una introducción que enganche, un desarrollo coherente y una conclusión que deje una idea potente.\n",
        "\n",
        "    Si el {topic} es muy amplio, siéntete libre de enfocarlo en un aspecto particularmente novedoso o relevante para el ecosistema actual.\n",
        "\n",
        "    Tu respuesta debe seguir este formato:\n",
        "    Primero, escribe el artículo de blog.\n",
        "    Luego, suma el número total de palabras del artículo y muestra el resultado así: Este artículo tiene X palabras.\n",
        "    \"\"\"\n",
        "    prompt = PromptTemplate(\n",
        "        input_variables=[\"topic\"],\n",
        "        template=template)\n",
        "\n",
        "    parser = StrOutputParser()\n",
        "    chain = prompt | llm | parser\n",
        "\n",
        "    response_content = chain.invoke({\"topic\": topic})\n",
        "\n",
        "    return response_content"
      ],
      "metadata": {
        "id": "oXqquXmIJXsJ"
      },
      "execution_count": 4,
      "outputs": []
    },
    {
      "cell_type": "markdown",
      "source": [],
      "metadata": {
        "id": "CiPFm4Bq0kfy"
      }
    },
    {
      "cell_type": "markdown",
      "source": [
        "Diseño del Interfaz"
      ],
      "metadata": {
        "id": "CQP1h5J61eTH"
      }
    },
    {
      "cell_type": "code",
      "source": [
        "# Interfaz Gradio\n",
        "iface = gr.Interface(\n",
        "    fn = generate_blog_post,\n",
        "    inputs=[\n",
        "        gr.Textbox(label=\"Ingresa el tema para el artículo de blog\",\n",
        "                   placeholder=\"Ej: El futuro de la Web3 en Latinoamérica, Agrotech y sostenibilidad en mercados emergentes, El rol de la IA generativa en la creación de contenido, Neurotecnología y ética...\")\n",
        "    ],\n",
        "    outputs=gr.Textbox(label=\"Artículo de Blog Generado\", lines=25), # Aumentado a 25 líneas para mejor visualización\n",
        "    title=\"🤖📝 Generador de Artículos de Blog con IA\",\n",
        "    description=\"Escribe un tema y la IA generará un artículo de blog de aproximadamente 400 palabras, enfocado en aspectos novedosos e interesantes. Ideal para explorar nuevas ideas sobre startups, tecnología y capital de riesgo en el mundo hispanohablante.\",\n",
        "    allow_flagging='never')\n",
        "\n",
        "iface.launch()"
      ],
      "metadata": {
        "id": "VV1N-5KnJYqR",
        "colab": {
          "base_uri": "https://localhost:8080/",
          "height": 661
        },
        "outputId": "adc00be7-0673-4d81-e85d-a2af30958a19"
      },
      "execution_count": 6,
      "outputs": [
        {
          "output_type": "stream",
          "name": "stderr",
          "text": [
            "/usr/local/lib/python3.11/dist-packages/gradio/interface.py:416: UserWarning: The `allow_flagging` parameter in `Interface` is deprecated.Use `flagging_mode` instead.\n",
            "  warnings.warn(\n"
          ]
        },
        {
          "output_type": "stream",
          "name": "stdout",
          "text": [
            "It looks like you are running Gradio on a hosted a Jupyter notebook. For the Gradio app to work, sharing must be enabled. Automatically setting `share=True` (you can turn this off by setting `share=False` in `launch()` explicitly).\n",
            "\n",
            "Colab notebook detected. To show errors in colab notebook, set debug=True in launch()\n",
            "* Running on public URL: https://396a42a9a54b1a3228.gradio.live\n",
            "\n",
            "This share link expires in 1 week. For free permanent hosting and GPU upgrades, run `gradio deploy` from the terminal in the working directory to deploy to Hugging Face Spaces (https://huggingface.co/spaces)\n"
          ]
        },
        {
          "output_type": "display_data",
          "data": {
            "text/plain": [
              "<IPython.core.display.HTML object>"
            ],
            "text/html": [
              "<div><iframe src=\"https://396a42a9a54b1a3228.gradio.live\" width=\"100%\" height=\"500\" allow=\"autoplay; camera; microphone; clipboard-read; clipboard-write;\" frameborder=\"0\" allowfullscreen></iframe></div>"
            ]
          },
          "metadata": {}
        },
        {
          "output_type": "execute_result",
          "data": {
            "text/plain": []
          },
          "metadata": {},
          "execution_count": 6
        }
      ]
    }
  ]
}